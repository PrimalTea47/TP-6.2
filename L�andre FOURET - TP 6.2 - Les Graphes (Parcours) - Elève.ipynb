{
 "cells": [
  {
   "cell_type": "markdown",
   "id": "1443e017",
   "metadata": {},
   "source": [
    "---"
   ]
  },
  {
   "cell_type": "markdown",
   "id": "d15d6e61",
   "metadata": {},
   "source": [
    "<img src=\"https://github.com/Lionel-Helin-Oza/Images_Notebook/blob/main/NSI-Image.png?raw=true\" alt=\"drawing\" width=\"350\">"
   ]
  },
  {
   "cell_type": "markdown",
   "id": "aff477f4",
   "metadata": {},
   "source": [
    "# TP6.2 - Les Graphes - Comment parcourir un graphe ? (BFS-DFS)\n",
    "\n",
    "Durée de l'activité proposé : 4h"
   ]
  },
  {
   "cell_type": "markdown",
   "id": "d3651f9a",
   "metadata": {},
   "source": [
    "<img src=\"https://github.com/Lionel-Helin-Oza/TP2.4-Les_Graphes/blob/main/graphe_garde.png?raw=true\" width=\"350\">"
   ]
  },
  {
   "cell_type": "markdown",
   "id": "5032505f",
   "metadata": {},
   "source": [
    "---"
   ]
  },
  {
   "cell_type": "markdown",
   "id": "746a3eef",
   "metadata": {},
   "source": [
    "\n",
    "## <span style='color:Blue'> Introduction\n",
    "    \n",
    "Les algorithmes de parcours sont des méthodes de recherche (et ne sont pas réservés aux graphes). \n",
    "   \n",
    "Parmi ces algorithmes on distingue:\n",
    "\n",
    "1.\tParcours en largeur\n",
    "\n",
    "2.\tParcours en profondeur\n",
    "\n",
    "Ces parcours ont été vus de manière graphique dans le cours C2.3 , ainsi que dans le TD2.3. Merci de vous y référer si besoin d'un rappel sur ces algorithmes de parcours. \n",
    "    "
   ]
  },
  {
   "cell_type": "markdown",
   "id": "9f2c3b8b",
   "metadata": {},
   "source": [
    "---"
   ]
  },
  {
   "cell_type": "markdown",
   "id": "57a1ad2c",
   "metadata": {},
   "source": [
    "## <span style='color:Blue'> *Partie 1.\tLe Parcours En largeur d'abord ou BFS(en Anglais)*   \n",
    "\n",
    "\n",
    "> Un parcours en largeur explore le graphe à partir d’un sommet donné (sommet de départ ou sommet source) en s'éloignant à chaque étape.\n",
    "\n",
    "> L’algorithme permet de calculer les distances de tous les sommets (en largeur) accessibles depuis le sommet source, niveau par niveau.\n",
    "\n",
    "> Il s'obtient au moyen d'une file. Le principe de FIFO (First In First Out) est donc utilisé.\n",
    "\n",
    "**Exemples d'utilisation:**\n",
    "\n",
    "- L’algorithme simule la transmission d’un message à partir d’un sommet source, en utilisant l’idée suivante : Tout sommet qui reçoit le message, le transférera à tous ses voisins qui ne l’ont pas encore reçu.\n",
    "    \n",
    "\n",
    "- Retrouver la ressemblance entre deux chaînes de caractères.\n",
    "\n",
    "\n",
    "**Implémentation en pseudo-code:**"
   ]
  },
  {
   "cell_type": "markdown",
   "id": "1c205039",
   "metadata": {},
   "source": [
    "<img src=\"https://github.com/Lionel-Helin-Oza/TP6.2-Les_Graphes_Parcours/blob/main/BFS.png?raw=true\" width=\"500\">"
   ]
  },
  {
   "cell_type": "markdown",
   "id": "1a0e8bd3",
   "metadata": {},
   "source": [
    "### <span style='color:Green'> *Exercice 1 : Parcours en largeur d’un graphe - BFS (Breadth First Search)*   \n"
   ]
  },
  {
   "cell_type": "markdown",
   "id": "7b3138e9",
   "metadata": {},
   "source": [
    "\n",
    "Implémenter l'algorithme précédent en Python et tester le sur notre graphe G (représenté ci-dessous par un Dictionnaire G). \n",
    "Vous pouvez exploiter la fonction voisins ci-dessous.\n"
   ]
  },
  {
   "cell_type": "code",
   "execution_count": 3,
   "id": "9b628f06",
   "metadata": {},
   "outputs": [
    {
     "name": "stdout",
     "output_type": "stream",
     "text": [
      "a\n",
      "c\n",
      "d\n",
      "e\n",
      "g\n",
      "h\n",
      "f\n",
      "b\n",
      "['a', 'c', 'd', 'e', 'g', 'h', 'f', 'b']\n"
     ]
    }
   ],
   "source": [
    "# Votre réponse ci-dessous :\n",
    "\n",
    "# Représentation du graphe par un dictionnaire\n",
    "G = dict()\n",
    "G['a'] = ['b','c']\n",
    "G['b'] = ['a','d','e']\n",
    "G['c'] = ['a','d']\n",
    "G['d'] = ['b','c','e']\n",
    "G['e'] = ['b','d','f','g']\n",
    "G['f'] = ['e','g']\n",
    "G['g'] = ['e','f','h']\n",
    "G['h'] = ['g']\n",
    "\n",
    "\n",
    "def voisins(G,sommet): \n",
    "    return G[sommet]\n",
    "\n",
    "def bfs(G,s) : # fonction BFS en Python\n",
    "\n",
    "    sommet_visite = []\n",
    "    f = []\n",
    "    f.append(s)\n",
    "    while f != []:\n",
    "        tmp = f.pop(-1)\n",
    "        print(tmp)\n",
    "        if tmp not in sommet_visite:\n",
    "            sommet_visite.append(tmp)\n",
    "        for i in  voisins(G,tmp):\n",
    "            if i not in sommet_visite and i not in f:\n",
    "                f.append(i)\n",
    "\n",
    "    return sommet_visite\n",
    "\n",
    "print(bfs(G, 'a'))\n"
   ]
  },
  {
   "cell_type": "markdown",
   "id": "b6753a06",
   "metadata": {},
   "source": [
    "## <span style='color:Blue'> Partie 2.\tLe Parcours En profondeur d'abord ou DFS (en Anglais)  "
   ]
  },
  {
   "cell_type": "markdown",
   "id": "4a06f932",
   "metadata": {},
   "source": [
    "> Il permet de parcourir un chemin possible jusqu'au bout avant de décider de parcourir un autre chemin. Le but est de parcourir tous les chemins possibles.\n",
    "\n",
    "> Il peut être codé d'une manière récursive.\n",
    "\n",
    "> Il s'obtient au moyen d'une pile. Le principe de LIFO (Last In First Out) est donc utilisé.\n",
    "\n",
    "**Exemples d'utilisations:**\n",
    "\n",
    "- Backtracking ou traçage numérique: utilisé comme stratégie contre l'épidémie du covid 19 (données GPS)\n",
    "\n",
    "\n",
    "- Trouver tous les chemins possibles dans un réseau.\n",
    "\n",
    "**Implémentation en pseudo-code:**"
   ]
  },
  {
   "cell_type": "markdown",
   "id": "ae31c517",
   "metadata": {},
   "source": [
    "<img src=\"https://github.com/Lionel-Helin-Oza/TP6.2-Les_Graphes_Parcours/blob/main/DFS.png?raw=true\" width=\"500\">"
   ]
  },
  {
   "cell_type": "markdown",
   "id": "2a119661",
   "metadata": {},
   "source": [
    "### <span style='color:Green'> *Exercice 2 : Parcours en profondeur d’un graphe - DFS(Depth First Search)*   "
   ]
  },
  {
   "cell_type": "markdown",
   "id": "60bdc8b4",
   "metadata": {},
   "source": [
    "**1.\tImplémenter cet algorithme en Python et tester le sur notre graphe G.**\n",
    "\n",
    "Voici une ligne de code qui permet de récupérer les voisins de tmp non déjà visités: \n",
    "\n",
    "`voisins=[y for y in voisin(G,tmp) if y not in sommets_visites]`"
   ]
  },
  {
   "cell_type": "markdown",
   "id": "f7a69a7d",
   "metadata": {},
   "source": [
    "La bibliothèque random permet un choix aléatoire dans une liste:\n",
    "\n",
    "`import random \n",
    "v=random.choice(voisins)`"
   ]
  },
  {
   "cell_type": "code",
   "execution_count": 6,
   "id": "a4fcaa73",
   "metadata": {},
   "outputs": [
    {
     "name": "stdout",
     "output_type": "stream",
     "text": [
      "['h', 'f', 'g', 'b', 'e', 'd', 'c', 'a']\n"
     ]
    }
   ],
   "source": [
    "# Représentation du graphe par un dictionnaire\n",
    "import random\n",
    "\n",
    "G = dict()\n",
    "G['a'] = ['b', 'c']\n",
    "G['b'] = ['a', 'd', 'e']\n",
    "G['c'] = ['a', 'd']\n",
    "G['d'] = ['b', 'c', 'e']\n",
    "G['e'] = ['b', 'd', 'f', 'g']\n",
    "G['f'] = ['e', 'g']\n",
    "G['g'] = ['e', 'f', 'h']\n",
    "G['h'] = ['g']\n",
    "\n",
    "def voisins(G, sommet):\n",
    "    return G[sommet]\n",
    "\n",
    "def parcours_profondeur(G, sommet):\n",
    "    sommets_visités = []\n",
    "    sommets_fermés = []\n",
    "    p = []\n",
    "    sommets_visités.append(sommet)\n",
    "    p.append(sommet)\n",
    "    while p != []:\n",
    "        tmp = p[-1]\n",
    "        voisins_non_visites = [y for y in voisins(G, tmp) if y not in sommets_visités]\n",
    "        if voisins_non_visites != []:\n",
    "            v = random.choice(voisins_non_visites)\n",
    "            sommets_visités.append(v)\n",
    "            p.append(v)\n",
    "        else:\n",
    "            sommets_fermés.append(tmp)\n",
    "            p.pop()\n",
    "\n",
    "    return sommets_fermés\n",
    "\n",
    "print(parcours_profondeur(G, 'a'))\n"
   ]
  },
  {
   "cell_type": "markdown",
   "id": "fb084cba",
   "metadata": {},
   "source": [
    "***Remarque :*** Comme les choix dans la liste des voisins sont aléatoires, il y a plusieurs parcours possibles."
   ]
  },
  {
   "cell_type": "markdown",
   "id": "3166a584",
   "metadata": {},
   "source": [
    "**2.\tOn peut aussi utiliser un algorithme récursif pour parcourir un graphe en profondeur.**\n",
    "\n",
    "Voici l'algorithme en langage naturel :\n"
   ]
  },
  {
   "cell_type": "markdown",
   "id": "87886f4d",
   "metadata": {},
   "source": [
    "<img src=\"https://github.com/Lionel-Helin-Oza/TP6.2-Les_Graphes_Parcours/blob/main/DFS_Recursif.png?raw=true\" width=\"450\">"
   ]
  },
  {
   "cell_type": "markdown",
   "id": "ec32c312",
   "metadata": {},
   "source": [
    "Écrire la fonction **`dfs_récursive`** et la faire fonctionner avec notre graphe avec comme sommet de départ ’g’.\n",
    "\n",
    "***Remarque :*** Le choix du 1er voisin est le premier de la liste voisins qui correspond à celle implantée lors de la création du graphe: G[’g’] = [’e’,’f’,’h’], en la modifiant par G[’g’] = [’f’,’e’,’h’], vous obtiendrez un autre parcours..."
   ]
  },
  {
   "cell_type": "code",
   "execution_count": 4,
   "id": "9ea6e5ea",
   "metadata": {},
   "outputs": [
    {
     "name": "stdout",
     "output_type": "stream",
     "text": [
      "['g', 'a', 'b', 'c', 'd', 'e', 'f', 'h']\n"
     ]
    }
   ],
   "source": [
    "# Votre réponse ci-dessous :\n",
    "\n",
    "\n",
    "G = dict()\n",
    "G['a'] = ['b', 'c']\n",
    "G['b'] = ['a', 'd', 'e']\n",
    "G['c'] = ['a', 'd']\n",
    "G['d'] = ['b', 'c', 'e']\n",
    "G['e'] = ['b', 'd', 'f', 'g']\n",
    "G['f'] = ['e', 'g']\n",
    "G['g'] = ['e', 'f', 'h']\n",
    "G['h'] = ['g']\n",
    "\n",
    "\n",
    "sommet_visités = []\n",
    "voisins = [p for p in G]\n",
    "def dfs_récursive(G, sommet):\n",
    "    if sommet not in sommet_visités:\n",
    "        sommet_visités.append(sommet)\n",
    "    voisins.remove(sommet)\n",
    "    for voisin in voisins:\n",
    "        dfs_récursive(G,voisin)\n",
    "    \n",
    "    return sommet_visités\n",
    "\n",
    "print(dfs_récursive(G, 'g'))\n",
    "\n",
    "\n",
    "\n",
    "\n"
   ]
  },
  {
   "cell_type": "markdown",
   "id": "d270b10d",
   "metadata": {},
   "source": [
    "---"
   ]
  },
  {
   "cell_type": "markdown",
   "id": "c5797bec",
   "metadata": {},
   "source": [
    "## <span style='color:Blue'> Partie 3.\tPour aller plus loin : L'algorithme de Dijkstra\n",
    "    \n",
    "Dans cette partie, on s'intéresse aux graphes valués. Ce sont ceux dont les arcs ou les arêtes nommés \"a\" sont munis de valeurs v(a).\n",
    "La valeur d'un chemin, donc d'une chaîne d'arcs ou d'arêtes, est définie comme la somme des valeurs des arcs (arêtes) qui le composent.\n",
    "Certains problèmes consistent à chercher entre deux points donnés le parcours qui a une longueur (durée, coût, distance) minimum.\n",
    "Ces problèmes se ramènent à la recherche d'une chaîne ou d'un chemin de plus faible pondération entre deux sommets d'un graphe pondéré (les pondérations des arêtes étant toutes positives). On parlera de plus courte distance en interprétant les pondérations comme des distances entre les sommets.\n",
    "    \n",
    "**L'algorithme de Dijkstra** permet de résoudre ce type de problème dans les graphes pondérés connexes et à pondérations positives.\n",
    "    \n",
    "Vous pouvez avoir une information plus précise sur le lien Wikipédia : \n",
    "> https://fr.wikipedia.org/wiki/Algorithme_de_Dijkstra\n"
   ]
  },
  {
   "cell_type": "markdown",
   "id": "01c13445",
   "metadata": {},
   "source": [
    "### L'algorithme de Dijkstra\n",
    "\n",
    "Visualiser la vidéo suivante pour comprendre l’algorithme de Dijkstra. \n",
    "\n",
    "> https://www.youtube.com/watch?v=MybdP4kice4\n",
    "\n",
    "Reprenons l’algorithme de Wikipédia: \n"
   ]
  },
  {
   "cell_type": "markdown",
   "id": "62658b46",
   "metadata": {},
   "source": [
    "<img src=\"https://github.com/Lionel-Helin-Oza/TP6.2-Les_Graphes_Parcours/blob/main/algo_Dijstra.png?raw=true\" width=\"750\">"
   ]
  },
  {
   "cell_type": "markdown",
   "id": "379d5ad3",
   "metadata": {},
   "source": [
    "***Remarques:***\n",
    "- Les poids sont tous positifs\n",
    "- Pour la suite `d[sommet]` correspondra à la marque du sommet.\n",
    "- Au premier tour de boucle, c'est le sommet E qui est sélectionné (puisqu'il porte la marque 0 et les autres la marque +∞).\n",
    "- Si l'objectif est de calculer la distance du sommet E à un sommet S, on peut stopper l'algorithme dès que S est parmi les sélectionnés.\n",
    "- Si on veut connaître le chemin à suivre pour la plus courte distance, on ajoute à chaque étape une mémorisation du \"parent\" d'un sommet.\n"
   ]
  },
  {
   "cell_type": "markdown",
   "id": "f7d4f998",
   "metadata": {},
   "source": [
    "### Un exemple pour illustrer l'algorithme\n",
    "\n",
    "Voici un graphe pondéré. On cherche le plus court chemin menant du sommet E au sommet S."
   ]
  },
  {
   "cell_type": "markdown",
   "id": "6cbd9703",
   "metadata": {},
   "source": [
    "<img src=\"https://github.com/Lionel-Helin-Oza/TP6.2-Les_Graphes_Parcours/blob/main/algo_slide1.png?raw=true\" width=\"550\">"
   ]
  },
  {
   "cell_type": "markdown",
   "id": "836e9405",
   "metadata": {},
   "source": [
    "**Initialisation :**"
   ]
  },
  {
   "cell_type": "markdown",
   "id": "4b86960d",
   "metadata": {},
   "source": [
    "<img src=\"https://github.com/Lionel-Helin-Oza/TP6.2-Les_Graphes_Parcours/blob/main/algo_slide2.png?raw=true\" width=\"550\">"
   ]
  },
  {
   "cell_type": "markdown",
   "id": "ad0382f3",
   "metadata": {},
   "source": [
    "On sélectionne E et on actualise la marque de ses voisins:\n"
   ]
  },
  {
   "cell_type": "markdown",
   "id": "7e3202f2",
   "metadata": {},
   "source": [
    "<img src=\"https://github.com/Lionel-Helin-Oza/TP6.2-Les_Graphes_Parcours/blob/main/algo_slide3.png?raw=true\" width=\"550\">"
   ]
  },
  {
   "cell_type": "markdown",
   "id": "794bd810",
   "metadata": {},
   "source": [
    "Parmi les non sélectionnés, on sélectionne la marque la plus petite et on traite ses voisins non sélectionnés.\n",
    "\n",
    "La marque du sommet A est inchangée puisque: marque(B)+poids(B-A) > marque(A).\n"
   ]
  },
  {
   "cell_type": "markdown",
   "id": "9cf11c86",
   "metadata": {},
   "source": [
    "<img src=\"https://github.com/Lionel-Helin-Oza/TP6.2-Les_Graphes_Parcours/blob/main/algo_slide4.png?raw=true\" width=\"550\">"
   ]
  },
  {
   "cell_type": "markdown",
   "id": "efa32fa9",
   "metadata": {},
   "source": [
    "Parmi les non sélectionnés, on sélectionne la marque la plus petite et on traite ses voisins non sélectionnés.\n",
    "\n",
    "La marque de C est modifiée puisque marque(À)+pois(A-C) < marque(C). Idem pour la marque de D. \n",
    "\n",
    "On modifie donc la couleur des arêtes (qui sert ici à enregistrer le \"père\").\n"
   ]
  },
  {
   "cell_type": "markdown",
   "id": "7bb631ba",
   "metadata": {},
   "source": [
    "<img src=\"https://github.com/Lionel-Helin-Oza/TP6.2-Les_Graphes_Parcours/blob/main/algo_slide5.png?raw=true\" width=\"550\">"
   ]
  },
  {
   "cell_type": "markdown",
   "id": "41d5c3c8",
   "metadata": {},
   "source": [
    "Etape suivante:"
   ]
  },
  {
   "cell_type": "markdown",
   "id": "9529598a",
   "metadata": {},
   "source": [
    "<img src=\"https://github.com/Lionel-Helin-Oza/TP6.2-Les_Graphes_Parcours/blob/main/algo_slide6.png?raw=true\" width=\"550\">"
   ]
  },
  {
   "cell_type": "markdown",
   "id": "5351b351",
   "metadata": {},
   "source": [
    "Etape suivante:"
   ]
  },
  {
   "cell_type": "markdown",
   "id": "826b6bb3",
   "metadata": {},
   "source": [
    "<img src=\"https://github.com/Lionel-Helin-Oza/TP6.2-Les_Graphes_Parcours/blob/main/algo_slide7.png?raw=true\" width=\"550\">"
   ]
  },
  {
   "cell_type": "markdown",
   "id": "277e6091",
   "metadata": {},
   "source": [
    "Dernière étape :"
   ]
  },
  {
   "cell_type": "markdown",
   "id": "9706b69d",
   "metadata": {},
   "source": [
    "<img src=\"https://github.com/Lionel-Helin-Oza/TP6.2-Les_Graphes_Parcours/blob/main/algo_slide8.png?raw=true\" width=\"550\">"
   ]
  },
  {
   "cell_type": "markdown",
   "id": "51d6140e",
   "metadata": {},
   "source": [
    "**Interprétation :**"
   ]
  },
  {
   "cell_type": "markdown",
   "id": "bfd7495c",
   "metadata": {},
   "source": [
    "la longueur minimale de E à S est 7 et en remontant les flèches violettes, on sait que le chemin correspondant est E-A-D-S.\n",
    "On peut présenter la mise en oeuvre de l'algorithme de Moore-Dijkstra de la manière suivante (chaque ligne correspond à une étape de l'algorithme):\n"
   ]
  },
  {
   "cell_type": "markdown",
   "id": "ff88a682",
   "metadata": {},
   "source": [
    "<img src=\"https://github.com/Lionel-Helin-Oza/TP6.2-Les_Graphes_Parcours/blob/main/tableau.png?raw=true\" width=\"750\">"
   ]
  },
  {
   "cell_type": "markdown",
   "id": "7c75c098",
   "metadata": {},
   "source": [
    "Pour déterminer le résultat, on lit la chaîne à l'envers (en partant du sommet S) en se rendant dans la colonne du sommet de provenance.\n",
    "Ainsi, la chaîne à l'envers est :\n",
    "- S (poids total = 7 en venant de D)\n",
    "- D (poids = 5 en venant de A)\n",
    "- A (poids = 3 en venant de E)\n",
    "- E (sommet d'entrée)\n",
    "La chaîne de poids minimal est donc E-A-D-S\n"
   ]
  },
  {
   "cell_type": "markdown",
   "id": "2c3ce4b1",
   "metadata": {},
   "source": [
    "### Proposition d'un Script"
   ]
  },
  {
   "cell_type": "markdown",
   "id": "e1e9f7ab",
   "metadata": {},
   "source": [
    "Considérons le graphe suivant dans lequel nous souhaitons déterminer le parcours le plus court menant du sommet A au sommet G.\n"
   ]
  },
  {
   "cell_type": "markdown",
   "id": "d5fe41e7",
   "metadata": {},
   "source": [
    "<img src=\"https://github.com/Lionel-Helin-Oza/TP6.2-Les_Graphes_Parcours/blob/main/exercice_graphe.png?raw=true\" width=\"450\">"
   ]
  },
  {
   "cell_type": "markdown",
   "id": "ccbcfe6b",
   "metadata": {},
   "source": [
    "Une possibilité pour représenter un graphe valué avec Python est d'utiliser un dictionnaire qui, à chaque sommet, associe un sous-dictionnaire composé de ses sommets adjacents associés à la pondération de l'arête incidente:"
   ]
  },
  {
   "cell_type": "code",
   "execution_count": 4,
   "id": "ac64729a",
   "metadata": {},
   "outputs": [],
   "source": [
    "Graphe = {\n",
    "\t'A':{'B':2, 'C':1},\n",
    "\t'B':{'A':2, 'C':2, 'D':1, 'E':3},\n",
    "\t'C':{'A':1, 'B':2, 'D':4, 'E':3, 'F':5},\n",
    "\t'D':{'B':1, 'C':4, 'E':3, 'F':6, 'G':5},\n",
    "\t'E':{'B':3, 'C':3, 'D':3, 'F':1},\n",
    "\t'F':{'C':5, 'D':6, 'E':1, 'G':2},\n",
    "\t'G':{'D':5, 'F':2}\n",
    "\t }\n"
   ]
  },
  {
   "cell_type": "markdown",
   "id": "0a56dbb1",
   "metadata": {},
   "source": [
    "Ainsi `Graphe['A']['B']` est le poids de l'arête incidente à A et B.\n",
    "\n",
    "Le parcours d'une telle structure permet de remplir ou vider deux dictionnaires. Le premier qui se remplira au fur et à mesure contiendra les sommets explorés (`s_explore`) et le second qui se videra au fur et à mesure contiendra les sommets à explorer (`s_a_explorer`).\n"
   ]
  },
  {
   "cell_type": "markdown",
   "id": "e9c68fbd",
   "metadata": {},
   "source": [
    "### <span style='color:Green'> *Exercice 3-1 :*  \n",
    "\n",
    "Vous trouverez ci-dessous un script mettant en œuvre l'algorithme de Moore-Dijkstra en donnant la longueur de chacun des chemins issus du sommet A et allant vers les autres sommets.\n",
    "\n",
    "●\tModifier le script ci-dessus pour faire afficher le sommet sélectionné, le plus court chemin depuis le sommet d'entrée ainsi que les dictionnaires `s_explore` et `s_a_explorer` à chaque tour de la boucle while. \n",
    "\n",
    "Cela permettra de se rendre compte de l'évolution de ces deux listes au cours du processus.\n",
    "\n",
    "*Aide: Insérer des fonctions print au bon endroit.*\n"
   ]
  },
  {
   "cell_type": "code",
   "execution_count": 5,
   "id": "ca1b6b6c",
   "metadata": {},
   "outputs": [
    {
     "name": "stdout",
     "output_type": "stream",
     "text": [
      "Dans le graphe d'origine A dont les arcs sont :\n",
      "A : {'B': 2, 'C': 1}\n",
      "B : {'A': 2, 'C': 2, 'D': 1, 'E': 3}\n",
      "C : {'A': 1, 'B': 2, 'D': 4, 'E': 3, 'F': 5}\n",
      "D : {'B': 1, 'C': 4, 'E': 3, 'F': 6, 'G': 5}\n",
      "E : {'B': 3, 'C': 3, 'D': 3, 'F': 1}\n",
      "F : {'C': 5, 'D': 6, 'E': 1, 'G': 2}\n",
      "G : {'D': 5, 'F': 2}\n",
      "\n",
      "Plus courts chemin de\n",
      "longueur 1 : A -> C\n",
      "longueur 2 : A -> B\n",
      "longueur 3 : A -> B -> D\n",
      "longueur 4 : A -> C -> E\n",
      "longueur 5 : A -> C -> E -> F\n",
      "longueur 7 : A -> C -> E -> F -> G\n",
      "\n"
     ]
    },
    {
     "data": {
      "text/plain": [
       "{'A': [0, ['A']],\n",
       " 'C': [1, ['A', 'C']],\n",
       " 'B': [2, ['A', 'B']],\n",
       " 'D': [3, ['A', 'B', 'D']],\n",
       " 'E': [4, ['A', 'C', 'E']],\n",
       " 'F': [5, ['A', 'C', 'E', 'F']],\n",
       " 'G': [7, ['A', 'C', 'E', 'F', 'G']]}"
      ]
     },
     "execution_count": 5,
     "metadata": {},
     "output_type": "execute_result"
    }
   ],
   "source": [
    "def dijkstra(G, s):\n",
    "    inf = sum(sum(G[sommet][i] for i in G[sommet]) for sommet in G) + 1\n",
    "        #On considère comme \"infini\" un majorant de la somme de toutes les\n",
    "        #pondérations du graphe\n",
    "    s_explore = {s : [0, [s]]}\n",
    "        #On associe au sommet d'origine s la liste [longueur, plus court chemin]\n",
    "    s_a_explorer = {j : [inf, \"\"] for j in G if j != s}\n",
    "        #On associe à chaque sommet j à explorer la liste [longueur, sommet précédent]\n",
    "    for suivant in G[s]:\n",
    "        s_a_explorer[suivant] = [G[s][suivant], s]\n",
    "\n",
    "    print(\"Dans le graphe d\\'origine {} dont les arcs sont :\".format(s))\n",
    "    for k in G:\n",
    "        print(k, \":\", G[k])\n",
    "    print()\n",
    "    print(\"Plus courts chemin de\")\n",
    "\n",
    "    #On créé une boucle qui tourne tant que la liste des sommets à explorer contient\n",
    "    #des points tels que la longueur provisoire calculée depuis l'origine est\n",
    "    #inférieure à l'infini\n",
    "    while s_a_explorer and any(s_a_explorer[k][0] < inf for k in s_a_explorer):\n",
    "        s_min = min(s_a_explorer, key = s_a_explorer.get)\n",
    "        longueur_s_min, precedent_s_min = s_a_explorer[s_min]\n",
    "        for successeur in G[s_min]:\n",
    "            if successeur in s_a_explorer:\n",
    "                dist = longueur_s_min + G[s_min][successeur]\n",
    "                if dist < s_a_explorer[successeur][0]:\n",
    "                    s_a_explorer[successeur] = [dist, s_min]\n",
    "        s_explore[s_min] = [longueur_s_min, s_explore[precedent_s_min][1] + [s_min]]\n",
    "        del s_a_explorer[s_min]\n",
    "        print(\"longueur\", longueur_s_min, \":\", \" -> \".join(s_explore[s_min][1]))\n",
    "\n",
    "    for k in s_a_explorer:\n",
    "        print(\"Il n\\'y a aucun chemin de {} à {}\".format(s, k))\n",
    "    print()\n",
    "\n",
    "    return s_explore\n",
    "\n",
    "\n",
    "MonGraphe = {\n",
    "    'A':{'B':2, 'C':1},\n",
    "    'B':{'A':2, 'C':2, 'D':1, 'E':3},\n",
    "    'C':{'A':1, 'B':2, 'D':4, 'E':3, 'F':5},\n",
    "    'D':{'B':1, 'C':4, 'E':3, 'F':6, 'G':5},\n",
    "    'E':{'B':3, 'C':3, 'D':3, 'F':1},\n",
    "    'F':{'C':5, 'D':6, 'E':1, 'G':2},\n",
    "    'G':{'D':5, 'F':2}\n",
    "    }\n",
    "\n",
    "dijkstra(MonGraphe, 'A')"
   ]
  },
  {
   "cell_type": "markdown",
   "id": "18597dd2",
   "metadata": {},
   "source": [
    "### <span style='color:Green'> *Exercice 3-2 :*  "
   ]
  },
  {
   "cell_type": "markdown",
   "id": "dce7b57d",
   "metadata": {},
   "source": [
    "Reprendre le script initial et le modifier pour laisser à l'utilisateur le choix du sommet d'entrée et du sommet de sortie et pour obtenir le plus court chemin entre ces deux sommets. On veillera à structurer le script avec des fonctions en séparant les calculs des affichages.\n",
    "\n",
    "*Aide: Ajouter une fonction affichage prenant en argument le graphe, le sommet d'entrée et le sommet de sortie choisis par l'utilisateur.*\n"
   ]
  },
  {
   "cell_type": "code",
   "execution_count": 1,
   "id": "4deb08e1",
   "metadata": {},
   "outputs": [
    {
     "name": "stdout",
     "output_type": "stream",
     "text": [
      "Dans le graphe d'origine A dont les arcs sont :\n",
      "A : {'B': 2, 'C': 1}\n",
      "B : {'A': 2, 'C': 2, 'D': 1, 'E': 3}\n",
      "C : {'A': 1, 'B': 2, 'D': 4, 'E': 3, 'F': 5}\n",
      "D : {'B': 1, 'C': 4, 'E': 3, 'F': 6, 'G': 5}\n",
      "E : {'B': 3, 'C': 3, 'D': 3, 'F': 1}\n",
      "F : {'C': 5, 'D': 6, 'E': 1, 'G': 2}\n",
      "G : {'D': 5, 'F': 2}\n",
      "\n",
      "Plus courts chemin de\n",
      "longueur 1 : A -> C\n",
      "longueur 2 : A -> B\n",
      "longueur 3 : A -> B -> D\n",
      "longueur 4 : A -> C -> E\n",
      "longueur 5 : A -> C -> E -> F\n",
      "longueur 7 : A -> C -> E -> F -> G\n",
      "\n"
     ]
    },
    {
     "data": {
      "text/plain": [
       "{'A': [0, ['A']],\n",
       " 'C': [1, ['A', 'C']],\n",
       " 'B': [2, ['A', 'B']],\n",
       " 'D': [3, ['A', 'B', 'D']],\n",
       " 'E': [4, ['A', 'C', 'E']],\n",
       " 'F': [5, ['A', 'C', 'E', 'F']],\n",
       " 'G': [7, ['A', 'C', 'E', 'F', 'G']]}"
      ]
     },
     "execution_count": 1,
     "metadata": {},
     "output_type": "execute_result"
    }
   ],
   "source": [
    "# Votre réponse ci-dessous"
   ]
  },
  {
   "cell_type": "markdown",
   "id": "fac79eb5",
   "metadata": {},
   "source": [
    "### <span style='color:Green'> *Exercice 3-3 :*  "
   ]
  },
  {
   "cell_type": "markdown",
   "id": "ae202605",
   "metadata": {},
   "source": [
    "Modifier le script ci-dessus pour laisser à l'utilisateur la possibilité de saisir son propre graphe.                           \n"
   ]
  },
  {
   "cell_type": "code",
   "execution_count": 7,
   "id": "08e5ef96",
   "metadata": {},
   "outputs": [],
   "source": [
    "#Votre réponse ci-dessous :\n",
    "    \n",
    "    \n",
    "    \n",
    "    \n",
    "    \n",
    "    "
   ]
  },
  {
   "cell_type": "markdown",
   "id": "f61fd072",
   "metadata": {},
   "source": [
    "---"
   ]
  },
  {
   "cell_type": "markdown",
   "id": "7358b1ca",
   "metadata": {},
   "source": [
    "| <span style='color:Blue'> L.HELIN |  | |   | |     |<span style='color:Blue'> NSI Terminale | |   | ||<span style='color:Blue'> Lycée Ozanam (Lille) & Lycée NDPO (Orchies)|\n",
    "| --- | --- |--- |--- |--- |--- | --- | --- |--- |--- | --- | --- |"
   ]
  }
 ],
 "metadata": {
  "kernelspec": {
   "display_name": "Python 3 (ipykernel)",
   "language": "python",
   "name": "python3"
  },
  "language_info": {
   "codemirror_mode": {
    "name": "ipython",
    "version": 3
   },
   "file_extension": ".py",
   "mimetype": "text/x-python",
   "name": "python",
   "nbconvert_exporter": "python",
   "pygments_lexer": "ipython3",
   "version": "3.10.12"
  }
 },
 "nbformat": 4,
 "nbformat_minor": 5
}
